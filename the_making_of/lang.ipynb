{
 "cells": [
  {
   "cell_type": "code",
   "execution_count": 4,
   "metadata": {},
   "outputs": [],
   "source": [
    "import csv"
   ]
  },
  {
   "cell_type": "code",
   "execution_count": 23,
   "metadata": {},
   "outputs": [],
   "source": [
    "import re"
   ]
  },
  {
   "cell_type": "code",
   "execution_count": 28,
   "metadata": {},
   "outputs": [],
   "source": [
    "from string import punctuation, digits"
   ]
  },
  {
   "cell_type": "code",
   "execution_count": 54,
   "metadata": {},
   "outputs": [],
   "source": [
    "text = []\n",
    "with open('data_oral_abaza_corpus/data_oral_abaza_corpus.csv') as csvfile:\n",
    "    reader = csv.DictReader(csvfile)\n",
    "    for row in reader:\n",
    "        text.append(row['text'])"
   ]
  },
  {
   "cell_type": "code",
   "execution_count": 7,
   "metadata": {},
   "outputs": [],
   "source": [
    "text = list(set(text))"
   ]
  },
  {
   "cell_type": "code",
   "execution_count": 8,
   "metadata": {},
   "outputs": [
    {
     "data": {
      "text/plain": [
       "516"
      ]
     },
     "execution_count": 8,
     "metadata": {},
     "output_type": "execute_result"
    }
   ],
   "source": [
    "len(text)"
   ]
  },
  {
   "cell_type": "code",
   "execution_count": 10,
   "metadata": {},
   "outputs": [
    {
     "data": {
      "text/plain": [
       "'щта схIватI'"
      ]
     },
     "execution_count": 10,
     "metadata": {},
     "output_type": "execute_result"
    }
   ],
   "source": [
    "text[4]"
   ]
  },
  {
   "cell_type": "code",
   "execution_count": 55,
   "metadata": {},
   "outputs": [],
   "source": [
    "with open('data_oral_besleney_corpus/data_oral_besleney_corpus.csv') as csvfile:\n",
    "    reader = csv.DictReader(csvfile)\n",
    "    for row in reader:\n",
    "        text.append(row['text'])"
   ]
  },
  {
   "cell_type": "code",
   "execution_count": 12,
   "metadata": {},
   "outputs": [],
   "source": [
    "text = list(set(text))"
   ]
  },
  {
   "cell_type": "code",
   "execution_count": 13,
   "metadata": {},
   "outputs": [
    {
     "data": {
      "text/plain": [
       "1371"
      ]
     },
     "execution_count": 13,
     "metadata": {},
     "output_type": "execute_result"
    }
   ],
   "source": [
    "len(text)"
   ]
  },
  {
   "cell_type": "code",
   "execution_count": 15,
   "metadata": {},
   "outputs": [
    {
     "data": {
      "text/plain": [
       "'ауИ чвгьАта йыугIватIИтI йыугIватIИтI'"
      ]
     },
     "execution_count": 15,
     "metadata": {},
     "output_type": "execute_result"
    }
   ],
   "source": [
    "text[1242]"
   ]
  },
  {
   "cell_type": "code",
   "execution_count": 56,
   "metadata": {},
   "outputs": [],
   "source": [
    "with open('data_oral_khakas_corpus/data_oral_khakas_corpus.csv') as csvfile:\n",
    "    reader = csv.DictReader(csvfile)\n",
    "    for row in reader:\n",
    "        text.append(row['text'])"
   ]
  },
  {
   "cell_type": "code",
   "execution_count": 17,
   "metadata": {},
   "outputs": [],
   "source": [
    "text = list(set(text))"
   ]
  },
  {
   "cell_type": "code",
   "execution_count": 18,
   "metadata": {},
   "outputs": [
    {
     "data": {
      "text/plain": [
       "10056"
      ]
     },
     "execution_count": 18,
     "metadata": {},
     "output_type": "execute_result"
    }
   ],
   "source": [
    "len(text)"
   ]
  },
  {
   "cell_type": "code",
   "execution_count": 57,
   "metadata": {},
   "outputs": [],
   "source": [
    "with open('data_oral_meadow-mari_corpus/data_oral_meadow-mari.csv') as csvfile:\n",
    "    reader = csv.DictReader(csvfile)\n",
    "    for row in reader:\n",
    "        text.append(row['text'])"
   ]
  },
  {
   "cell_type": "code",
   "execution_count": 58,
   "metadata": {},
   "outputs": [],
   "source": [
    "text = list(set(text))"
   ]
  },
  {
   "cell_type": "code",
   "execution_count": 59,
   "metadata": {},
   "outputs": [
    {
     "data": {
      "text/plain": [
       "14155"
      ]
     },
     "execution_count": 59,
     "metadata": {},
     "output_type": "execute_result"
    }
   ],
   "source": [
    "len(text)"
   ]
  },
  {
   "cell_type": "code",
   "execution_count": 22,
   "metadata": {},
   "outputs": [
    {
     "data": {
      "text/plain": [
       "['Фамилиязы хайди олардың?',\n",
       " 'Тыгай кечан эрдене Митя ден Витя',\n",
       " 'кӧ эше иктаж-мо.',\n",
       " 'Ой, кузе маныт гала?',\n",
       " '[2] Мо, Лариванже гармонист дык,',\n",
       " '\\n[smm1950f] Славкадаң, че...  Сашадаң.',\n",
       " 'А пу Олег, аны, чиис име идіп, аны азырап оңарылбас ол.',\n",
       " 'ачамже тиде ял гычак шочын.',\n",
       " 'Ам ягода теерiп, андары iди чӧрып ахча чыылдырған.',\n",
       " 'Пахлазам на, тіпче, кӧміскелері чоғыл ол паланың.',\n",
       " 'Анаң абам Аңзастаңох сығара чааға парып, іди ой… порастанғлап парыбыстырлар.',\n",
       " 'чыла иктешлен, а= кодат, пӧлекым кучыктат.',\n",
       " '\\n[evs1979f] Хайди?',\n",
       " 'Ам чолӌа пас килчем и ағастар ла сыылапча піди.',\n",
       " '\\n[evs1979f] Я. Пірее ниме.',\n",
       " 'Пай… пай итірібіскен ыстырған кізі, абам чоохтаан, андағ кізі чох полған.',\n",
       " '[2] Мыйын, э, мыйынж... а руш-шамыч иктат уке.',\n",
       " 'догуфӏэ жьылэм зыкъызэриӏатыжьыр сабир нахьыбэ зэрыхъур',\n",
       " '[15] «Сорыкан» курштымашым ынде огына шарне.',\n",
       " 'Анда ӱгренерге хынығ полған.',\n",
       " 'агIахIврА АкIвымкIвагьи йхIвад сарА уагIахъАта СССР йтУ зымгIвА рпны закIЫ-закI уарАд йа куплЕткI здЫрид йхIвад',\n",
       " 'Отец ялсоветом был.',\n",
       " 'Пу кулу…, чистек, чир чистегі он пис ахча, пис ахча полӌаң ол ахчалармаң.',\n",
       " '[2] Кок гана колтенут, мом.',\n",
       " '\\n[lpm1941f] Если поближе…',\n",
       " 'А минің, тігі, ол ахча чыып анда ӱс чыл.',\n",
       " 'А ӏазапӏэм махокӏэ укӏонэхи, укъычӏэлъыни, зыкъэбгъэхъужьын плъэкӏынэ.',\n",
       " '\\n[evs1979f] Ӱӱтағ?',\n",
       " 'кова да коча.',\n",
       " 'Пеере алдыра аның иртіре килбестер» тіптір.',\n",
       " '\\n[evs1979f] А, пілбинчем. Чӧрбинчем, чоохтаспинчам. Маң чоғыл.',\n",
       " 'Позының пірее име идінӌек полып, позың позыңа организатор поларға кирексің нізе.',\n",
       " 'шешке миен.',\n",
       " 'Макай ағам наверно пір муң сигіс ханӌа-да чыллардаң полар чӱс тоғызон чылдаң.',\n",
       " 'ти къызэришӏар къацӏыхури абы лӏыжыр къычӏащыжьыри',\n",
       " 'Илюша Аданаков именің абалары.',\n",
       " 'Вара квартирышкет…',\n",
       " '\\n[zgb1935f] Ну конечно <?>.',\n",
       " '[14] Марья мӱшкыран кодын.',\n",
       " 'Ӱс чыл чарым чӧрген, армияда.',\n",
       " '\\n[emk1967f] Піс теедігі алдыра чӧрчебіс палалардаң хада, но анда… пысхалах.',\n",
       " '\\n[iec1946m] Хырых алты.',\n",
       " '\\n[evs1979f] Имӌі бе?',\n",
       " 'Ағаа полысчам.',\n",
       " 'Мині сӧклеен кізілерді, ниме, махтапчам.',\n",
       " 'Плъагъурэ джапходу хъорыбзэкӏэ ипэм зэдэгущыӏэхэт прямой-у зэгурыӏуа мобым лӏыгъэ зэрыхэмылъыри къыгурыӏуа мыдреми къыришӏар зэрыхьенапэр къыгурыӏори игъэуври къычӏэкӏыжьа',\n",
       " 'тудо будкыш петыреныт,',\n",
       " 'А ирім пір дее пілбинче.',\n",
       " 'илышемжат неле,',\n",
       " '\\n[mdc1963f] А нойма полған андағ кӱнiнде?',\n",
       " '«Ну-ка» тіпче «придумайте пред... предложение прямо сразу»',\n",
       " 'ахвЫшвгьи гIвбАта йыршИтIта',\n",
       " 'эре ломыж вӱд дене вет,',\n",
       " 'Мин дее ӧскірген сипток-ай соода ӧлбезе, сарғалап турча-й.',\n",
       " '[1] Наелась, очень сытные блины, очень вкусные.',\n",
       " 'Вот ончылшовыч мыйын… ситцевый ончылшовыч,',\n",
       " 'но туге гынат, чоннаже эре самырык,',\n",
       " 'Мин пу улицаларды прай арығладарӌыхмын.',\n",
       " '«Азах-холларын» теем «артыс салбааннар мында» тіпчем, «чтоб мин алып алғам» тіп.',\n",
       " 'Чодырам руэныт,',\n",
       " 'Име, Карагайда Ана… Агая пар нізе.',\n",
       " '\\n[evs1979f] Ізіг чайғыда, я?',\n",
       " 'И все щас спасибо говорят «Как ты любила стол, это, и сварить, то всякое сделать».',\n",
       " 'Нэмэз, нэкӏмазэ, урэзу... ураза сӏыгъыныри идэтэкъым, сядэ.',\n",
       " 'тышке',\n",
       " '\\n[evs1979f] Ағас аразында ниме ӧсче?',\n",
       " 'Арабскэ алфавит чӏэлъ, дисабихэр, дикӏэлэеджаккӏохэр маккӏохэ... пятница къэс... пятница... мэфэку мэхоку къэс, и щызэрэгъашӏэ арабский арабскабзэ.',\n",
       " 'Наталя онча ыле пеш.',\n",
       " '\\n[mdc1963f] Хайда тоғынып ӱгренглепчеткеннерін чоохтап пиріңер.',\n",
       " '\\n[kam1926f] Поонӌахтар, я, чӧр... чӧрӌен осхастар.',\n",
       " 'Ам ол ха... харам... харам пай че, анаң соонда ӧл парыбысхан.',\n",
       " 'и шкетын коштынам мый восьмой классышке.',\n",
       " '«А ол одырчатхан, сілер чоохтасчан апчахтардың ханӌалар час полған тіп сағын… полар тіп сағынчазың?» тіпче.',\n",
       " '«Пар» теем, «мин парбассым».',\n",
       " '\\n[erk1927f] Кис халас еще.',\n",
       " 'Отец приём= у брата сына принимал, ну жить.',\n",
       " 'нимат шарналташыжат уке, манын.',\n",
       " 'Анаң чіке тура полған, суғ хазында.',\n",
       " '«Че, сана» теем «ханӌа частығ, ам ӱреп парды» тіпчем.',\n",
       " 'крУпно бабадУта Арса йцАхитIта',\n",
       " '\\n[emk1967f] Тағ ээзілерін кӧрӌең полтырлар же?',\n",
       " 'Монденам мый тидыжым.',\n",
       " 'Ну элен полбастар, конечно.',\n",
       " 'Туңмамның хызы Казановта ирге парған.',\n",
       " 'Только, име, ундут салтыр мин, то ли пір тирені истебіссе, пір хой пазы ба, или пір кӱн тоғынған ӱчӱн пір хой пазы ба?',\n",
       " 'Мин еще суурыбызам.',\n",
       " '\\n[smm1950f] Или может пу чыл вообще тоғынам пасхан, вообще чи.',\n",
       " 'Максымже вет кугу ыле, мемнанже изи ыле.',\n",
       " 'Ну, ладно, чібіскеннер, чібіскеннер.',\n",
       " 'Ол изік, кӧр име, посуда, я, тазып хайди ӱӱлче, шкап таа чоғыл.',\n",
       " '[14] Олорыштат, тыштат.',\n",
       " 'Чиитте дее ідих чоохтасчаң полғабыс, школаа даа ӱгренченде, пісті перісчең полғаннар, а, ниме, а піс оларда чоохтар хоостыра.',\n",
       " 'Ол пызааларды хайди садып алар?',\n",
       " 'А трудовой-да стаж минің так и так, минің ниме… парча.',\n",
       " 'ипэм зырыщыта дыду мыхъужьынами ари// абыкӏи догуфӏэр',\n",
       " 'И ела, пила, наверное и.',\n",
       " 'пӧртшӧ тыге окна йымалже чыла в=',\n",
       " 'А оларға как раз ікі пызаа пиргем хыстат пирзіннер тіп.',\n",
       " '\\n[vtt1937f] Я, хадарарға надо ам.',\n",
       " '\\n[vtt1937f] Я, Педора Андреевнезе пар килчем пірееде, хончам анда.']"
      ]
     },
     "execution_count": 22,
     "metadata": {},
     "output_type": "execute_result"
    }
   ],
   "source": [
    "text[13000:13100]"
   ]
  },
  {
   "cell_type": "code",
   "execution_count": 29,
   "metadata": {},
   "outputs": [],
   "source": [
    "punctuation = punctuation + '«»—–…“”\\n\\t' + digits"
   ]
  },
  {
   "cell_type": "code",
   "execution_count": 60,
   "metadata": {},
   "outputs": [],
   "source": [
    "text1 = []\n",
    "for t in text:\n",
    "    t = re.sub('[{}]'.format(punctuation), '', t)\n",
    "    t = t.replace('/', '')\n",
    "    t = t.replace('=', '')\n",
    "    t = t.lower()\n",
    "    t = re.sub('[a-z]+', '', t)\n",
    "    text1.append(t)"
   ]
  },
  {
   "cell_type": "code",
   "execution_count": 69,
   "metadata": {},
   "outputs": [
    {
     "data": {
      "text/plain": [
       "['вера мында чӧрче канзычакова кирі',\n",
       " 'шудым ястарен кодо  май ',\n",
       " ' ленин дене ик ияш улына  манеш ыле',\n",
       " 'чуул парыбысхан',\n",
       " 'ол хайдида ну ол пас  пу узназаков алешаның мамазы имезі',\n",
       " ' таныпчазың таныминохчазың',\n",
       " 'хыра полған',\n",
       " 'че сана теем ханӌа частығ ам ӱреп парды тіпчем',\n",
       " 'хызымның ӱреен хызымның пір хыс халған сашада',\n",
       " 'крайза парып кипазах чоғыл тіп парбаам',\n",
       " 'тыге ойленыт ыле',\n",
       " 'къэкӏуа',\n",
       " 'потому что схъапщыла авария далашван сынхах йгьамуашызт',\n",
       " ' а андағы ол техниканы трактор сатчалар я',\n",
       " 'мегее пис турғыс пирген  степан павлович',\n",
       " 'мошко корноя',\n",
       " 'алты июньда пістің встреча полған группаның',\n",
       " 'ходз ягъакӏори илъэситӏкӏэ ӏоху ишӏа',\n",
       " 'са зымгвалагьи сбзабгьи гьсхвум',\n",
       " 'ещё аразында піреезі кӧрерге киртінӌек кізі кӧр халӌаң полтыр',\n",
       " 'кунар ужат  ужат а то ыштыктет гын ала йӧршын сокыр лият маньыт',\n",
       " ' салғанағох я',\n",
       " 'адзиуара йынкъвыргазгьи адзы дартхитта даргьи адзы йабатагвитта йабаквабитта',\n",
       " 'мом эметым чыла поген намием да ончыктем да',\n",
       " ' ээ шым квартиран ыле мемнан',\n",
       " 'сідеп аларға пірее име пирем тіпче',\n",
       " 'анаң кӱскӱ читсе кöрзе мині попсе мындағ искеӌек ле халчам',\n",
       " 'мин теедігі теербенге чӧрӌеңде кічіг ле полбаан полабыс па хайди',\n",
       " 'ол тоғынӌаң хараакÿнӧрте тоғынӌаң',\n",
       " 'а мында ол нарушение всех прав пол парча',\n",
       " ' темаларың хайдағ',\n",
       " 'хайди ниме тоғынғазар чоохтап пиріңер',\n",
       " 'йуу ізіг чайғы',\n",
       " ' а ол анаң ниме хара хыс пиӌе ӱреенде тоже чуртап салаң тіптір уйсып аӌа',\n",
       " 'аа теем мағат тоғынғам андада пістің коммунистический бригада полған',\n",
       " 'сураан судха парамаң теенде парам теем',\n",
       " 'и ағам макай ағам чоохтапча килӌең полған тіпче хылыстары прямо мынӌа салбахтап кӱкиек аӌаның пу арбаты имеде ол нимелерде казактарды сӱріп чізе ниме ахтарды',\n",
       " ' нахь узэ уикӏасу узэджар си тёте кукэ',\n",
       " ' ну тиин тиин хадына ирте наверное ам да я',\n",
       " 'встанет за столом кӧр салар кем хулиганит',\n",
       " 'хайди сіліг кӧрінче мегее',\n",
       " 'саңай ла піс хазах кипазах киспеӌебіс',\n",
       " 'конешне август тылзе уже',\n",
       " 'а мин анаң кічиӌек отказ салыбысхам',\n",
       " ' ах таа тасхылда аххан даа сууӌаам ах таа чазыларды тобырып алчай',\n",
       " 'вара кочаметын тупшо гына коеш кочан изишак йыжвеяжве',\n",
       " 'июным заор двадцать второй июнь четыре часа утра киев бомбили жьери киев бомбит къишӏыри аби еуэри абы тету еджакӏуэ дыкӏуэжьыну хъуакъым',\n",
       " 'алакуш ныҥгаят',\n",
       " 'мының пір дее чирзе парбаам',\n",
       " ' латкудытын тыйжын улыт',\n",
       " 'чаа чаа соонда нимені кӧдір парарға кирек',\n",
       " 'кок ош бантик ден чоҥештылеш школ мучко',\n",
       " 'арати цӏыху исхэм къызэрагурыӏуар зэшъхьакӏэ къэувыӏэмэ япэре чӏыпӏэм икӏынура къызэрафӏэшӏар',\n",
       " 'аннаңар тоғысха пирінерге кӱстенчем',\n",
       " ' анаң колхозха абам пеере килгенде мында халғабыс нізе',\n",
       " 'денис парчатхан хап тудынып алып мында',\n",
       " 'иленна',\n",
       " 'анаң сигіс хати чӱгӱргем',\n",
       " 'нуно ӱдат',\n",
       " ' нылыт шагал',\n",
       " 'тумна тумтум тумна тумтум',\n",
       " 'чӱзіп пілче кӱзінге ізеніп кірібісче полар суға',\n",
       " 'еще балалайка тудынып алтырлар балалайкалығ парчалар',\n",
       " ' мм но но но но',\n",
       " 'анда сеексеек делают ол местонаң пеер арах анда тоже плохое место',\n",
       " 'прай холтыхтанызып алып чолды кизіре турып алып пірее сигістоғызар кізінең холтыхтанызып алып піди пӱлес кірче',\n",
       " ' колхоз тузында целый кӱн тоғынчазың я',\n",
       " ' полыспады полыспады',\n",
       " ' губгъо сыт зыгорэ къыфщышӏхэтэмэ зы цӏэпӏагъа горэ ефшӏэтэмэ цӏэпӏагъа сэмэркъо ае',\n",
       " 'а юрковтың ордына председатель правления колхоза тороков андрах халған',\n",
       " ' уу ирте',\n",
       " ' ну пірее килділерім чи ната',\n",
       " 'ауи асквшы зкьи жвшви гважвы жвба ахъан  дгадрид',\n",
       " 'хызыл иирде кӧрген полар',\n",
       " 'ти хъункъэ тӏэ къыжьыпӏэнэмэ мо къэкӏуатэ жьери пщым нахь де лъыкӏуатэри жьыриӏа',\n",
       " 'андарох азахча тоғынча ідик',\n",
       " 'ам ағаа по полыс чӧрчен полар нізе',\n",
       " 'аның абазының туғаннары пыдырахта султрековтар',\n",
       " ' ипчізінің хада ыспазын  ме',\n",
       " 'пазымда читпин',\n",
       " 'мухарби агачев ауаъа далагыхын кумукови йари адворец йынхыуа йалаган ауаъагьи амир дрыцынхат',\n",
       " 'милициелер килген анаң всё',\n",
       " 'подменнай алып алғанда уғаа истіг тынан мар килзең тоғынарға прямо ниик кізінің сӧӧгі',\n",
       " 'олар о от саап полбинчалар',\n",
       " 'ящэнэрэу къаккӏохэри дыгъужъхэр',\n",
       " ' кандаше',\n",
       " 'а піс примерно алтон читі алтон пис алтон алты частығ пір оол наверно ӱзӧлең чоохтас турчатхабыс',\n",
       " ' а муж был из ушемнура',\n",
       " 'ам мында тарелкалар полған минің чірчелер полған',\n",
       " 'машиназы пар а машинабаң нойма ӱр бе кил парарӌых таа',\n",
       " ' ой андағ полған я андағ полған оо',\n",
       " ' иканаште тӱҥа садак огеш лий',\n",
       " 'анаң пенсиямны албин ахчамны алғам пенсиям тӧлебееннер',\n",
       " 'миенам да',\n",
       " 'такая коса была',\n",
       " 'аал пазында пу чағында одырча уфрося',\n",
       " 'аннаңары балалайкалары мында халча піреезінің гитара',\n",
       " 'а пайлар тойға килбеендір',\n",
       " 'анаң сӱріс парза сӱргӱнӌі пар парза анда кізілер удурлап оларды часхарып арағадаң сыйлап',\n",
       " 'таня тиде тыяк улат докан  манеш']"
      ]
     },
     "execution_count": 69,
     "metadata": {},
     "output_type": "execute_result"
    }
   ],
   "source": [
    "text1[13000:13100]"
   ]
  },
  {
   "cell_type": "code",
   "execution_count": 35,
   "metadata": {},
   "outputs": [],
   "source": [
    "import random"
   ]
  },
  {
   "cell_type": "code",
   "execution_count": 68,
   "metadata": {},
   "outputs": [],
   "source": [
    "random.shuffle(text1)"
   ]
  },
  {
   "cell_type": "code",
   "execution_count": 70,
   "metadata": {},
   "outputs": [],
   "source": [
    "text = ' '.join(text1)"
   ]
  },
  {
   "cell_type": "code",
   "execution_count": 71,
   "metadata": {},
   "outputs": [],
   "source": [
    "words = text.split()"
   ]
  },
  {
   "cell_type": "code",
   "execution_count": 78,
   "metadata": {},
   "outputs": [],
   "source": [
    "random.shuffle(words)"
   ]
  },
  {
   "cell_type": "code",
   "execution_count": 79,
   "metadata": {},
   "outputs": [
    {
     "data": {
      "text/plain": [
       "['тастапчазар',\n",
       " 'ыле',\n",
       " 'мыннаң',\n",
       " 'такая',\n",
       " 'имне',\n",
       " 'ӧрке',\n",
       " 'часта',\n",
       " 'хыринӌа',\n",
       " 'йолаш',\n",
       " 'кучедалаш']"
      ]
     },
     "execution_count": 79,
     "metadata": {},
     "output_type": "execute_result"
    }
   ],
   "source": [
    "words[:10]"
   ]
  },
  {
   "cell_type": "code",
   "execution_count": 80,
   "metadata": {},
   "outputs": [],
   "source": [
    "import markovify"
   ]
  },
  {
   "cell_type": "code",
   "execution_count": 83,
   "metadata": {},
   "outputs": [],
   "source": [
    "text = ''.join(words)"
   ]
  },
  {
   "cell_type": "code",
   "execution_count": 84,
   "metadata": {},
   "outputs": [],
   "source": [
    "letters = list(text)"
   ]
  },
  {
   "cell_type": "code",
   "execution_count": 86,
   "metadata": {},
   "outputs": [],
   "source": [
    "txt = []\n",
    "prev = 0\n",
    "val = random.randint(3,9)\n",
    "for i,l in enumerate(letters):\n",
    "    if i == val+prev:\n",
    "        txt.append(l+'.')\n",
    "        val = random.randint(3,9)\n",
    "        prev = i\n",
    "    else:\n",
    "        txt.append(l)"
   ]
  },
  {
   "cell_type": "code",
   "execution_count": 87,
   "metadata": {},
   "outputs": [],
   "source": [
    "text = ' '.join(txt)"
   ]
  },
  {
   "cell_type": "code",
   "execution_count": 89,
   "metadata": {},
   "outputs": [
    {
     "data": {
      "text/plain": [
       "' е н а л. ғ а н п и р г е. м п ы р л я л ы ж. э х э м. о д ы. р ғ а н. ы т і п. ч е м ч. а б л а х. т ы щ ы. ж ь и. ӏ а '"
      ]
     },
     "execution_count": 89,
     "metadata": {},
     "output_type": "execute_result"
    }
   ],
   "source": [
    "text[130:250]"
   ]
  },
  {
   "cell_type": "code",
   "execution_count": 90,
   "metadata": {},
   "outputs": [
    {
     "name": "stdout",
     "output_type": "stream",
     "text": [
      "т с к л е р а й.\n",
      "р а б и н.\n",
      "э т ӧ л.\n",
      "н у р ы п.\n",
      "й с к ӧ з і.\n",
      "л б и н н ы.\n",
      "р и с и.\n",
      "ж к а з а а м н е.\n"
     ]
    }
   ],
   "source": [
    "# Build the model.\n",
    "text_model = markovify.Text(text)\n",
    "\n",
    "# Print five randomly-generated sentences\n",
    "for i in range(5):\n",
    "    print(text_model.make_sentence())\n",
    "\n",
    "# Print three randomly-generated sentences of no more than 280 characters\n",
    "for i in range(3):\n",
    "    print(text_model.make_short_sentence(280))"
   ]
  },
  {
   "cell_type": "code",
   "execution_count": null,
   "metadata": {},
   "outputs": [],
   "source": []
  },
  {
   "cell_type": "code",
   "execution_count": 96,
   "metadata": {},
   "outputs": [
    {
     "name": "stdout",
     "output_type": "stream",
     "text": [
      "44\n"
     ]
    }
   ],
   "source": [
    "ii = 0\n",
    "with open('dict.txt', 'w') as f:\n",
    "    for i in range(120000):\n",
    "        word = text_model.make_sentence()\n",
    "        try:\n",
    "            word = word.replace(' ', '')\n",
    "            word = word.replace('.', '')\n",
    "            f.write(word + '\\n')\n",
    "        except:\n",
    "            ii += 1\n",
    "            continue\n",
    "print(ii)"
   ]
  },
  {
   "cell_type": "code",
   "execution_count": 93,
   "metadata": {},
   "outputs": [
    {
     "name": "stdout",
     "output_type": "stream",
     "text": [
      "т і г н ы.\n"
     ]
    }
   ],
   "source": [
    "print(text_model.make_sentence())"
   ]
  },
  {
   "cell_type": "code",
   "execution_count": 94,
   "metadata": {},
   "outputs": [
    {
     "name": "stdout",
     "output_type": "stream",
     "text": [
      "а д ы н д ы р х.\n"
     ]
    }
   ],
   "source": [
    "w = text_model.make_sentence()\n",
    "print(w)"
   ]
  },
  {
   "cell_type": "code",
   "execution_count": 98,
   "metadata": {},
   "outputs": [],
   "source": [
    "with open('dict.txt') as f, open('dict2.txt', 'w') as fw:\n",
    "    for word in f:\n",
    "        word = word.strip()\n",
    "        l = len(word)\n",
    "        if l > 9:\n",
    "            prev = 0\n",
    "            n = round(l/9)\n",
    "            for x in range(n):\n",
    "                num = random.randint(7,9)\n",
    "                w1 = word[prev:prev+num]\n",
    "                if len(w1) > 2:\n",
    "                    fw.write(w1+'\\n')\n",
    "                    prev = prev+num\n",
    "        else:\n",
    "            fw.write(word+'\\n')\n",
    "            "
   ]
  },
  {
   "cell_type": "code",
   "execution_count": 99,
   "metadata": {},
   "outputs": [],
   "source": [
    "dictionary = {}\n",
    "with open('dict2.txt') as f:\n",
    "    for line in f:\n",
    "        word = line.strip()\n",
    "        dictionary[word] = len(word)"
   ]
  },
  {
   "cell_type": "code",
   "execution_count": 100,
   "metadata": {},
   "outputs": [],
   "source": [
    "suffix = '''ӧмми\n",
    "еергу\n",
    "зыап\n",
    "зіху\n",
    "енар\n",
    "мудж\n",
    "кӧрто\n",
    "хайт\n",
    "онман'''"
   ]
  },
  {
   "cell_type": "code",
   "execution_count": 101,
   "metadata": {},
   "outputs": [
    {
     "data": {
      "text/plain": [
       "122276"
      ]
     },
     "execution_count": 101,
     "metadata": {},
     "output_type": "execute_result"
    }
   ],
   "source": [
    "len(dictionary)"
   ]
  },
  {
   "cell_type": "code",
   "execution_count": 102,
   "metadata": {},
   "outputs": [],
   "source": [
    "lexicon = list(dictionary.keys())"
   ]
  },
  {
   "cell_type": "code",
   "execution_count": 106,
   "metadata": {},
   "outputs": [],
   "source": [
    "#num_verb = round(0.4*len(dictionary))\n",
    "\n",
    "#VERB = lexicon[:num_verb]\n",
    "#NAME = lexicon[num_verb:]"
   ]
  },
  {
   "cell_type": "code",
   "execution_count": 107,
   "metadata": {},
   "outputs": [],
   "source": [
    "fines = {}\n",
    "for word in lexicon:\n",
    "    fin = word[-2:]\n",
    "    if fin in fines:\n",
    "        fines[fin] += 1\n",
    "    else:\n",
    "        fines[fin] = 1"
   ]
  },
  {
   "cell_type": "code",
   "execution_count": 108,
   "metadata": {},
   "outputs": [
    {
     "data": {
      "text/plain": [
       "1082"
      ]
     },
     "execution_count": 108,
     "metadata": {},
     "output_type": "execute_result"
    }
   ],
   "source": [
    "len(fines)"
   ]
  },
  {
   "cell_type": "code",
   "execution_count": 109,
   "metadata": {},
   "outputs": [
    {
     "name": "stdout",
     "output_type": "stream",
     "text": [
      "1 ар 1879\n",
      "2 ан 1746\n",
      "3 ал 1362\n",
      "4 на 1327\n",
      "5 та 1314\n",
      "6 ла 1308\n",
      "7 ол 1243\n",
      "8 да 1222\n",
      "9 ра 1067\n",
      "10 ын 1049\n",
      "11 ча 982\n",
      "12 ам 961\n",
      "13 па 953\n",
      "14 ха 952\n",
      "15 ен 947\n",
      "16 ат 890\n",
      "17 аа 850\n",
      "18 ер 848\n",
      "19 ап 812\n",
      "20 ма 772\n",
      "1073 ӌӱ 1\n",
      "1074 бв 1\n",
      "1075 юв 1\n",
      "1076 хщ 1\n",
      "1077 ӏг 1\n",
      "1078 гг 1\n",
      "1079 эӧ 1\n",
      "1080 юл 1\n",
      "1081 ёч 1\n",
      "1082 лӧ 1\n"
     ]
    }
   ],
   "source": [
    "i = 0\n",
    "for fin in sorted(fines, key=fines.get, reverse=True):\n",
    "    i += 1\n",
    "    if i < 21:\n",
    "        print(i, fin, fines[fin])\n",
    "    if i > 1072:\n",
    "        print(i, fin, fines[fin])"
   ]
  },
  {
   "cell_type": "code",
   "execution_count": 110,
   "metadata": {},
   "outputs": [
    {
     "name": "stdout",
     "output_type": "stream",
     "text": [
      "56\n"
     ]
    }
   ],
   "source": [
    "i = 0\n",
    "for fin in fines:\n",
    "    if fines[fin] == 1:\n",
    "        i += 1\n",
    "print(i)"
   ]
  },
  {
   "cell_type": "code",
   "execution_count": 111,
   "metadata": {},
   "outputs": [
    {
     "name": "stdout",
     "output_type": "stream",
     "text": [
      "36\n"
     ]
    }
   ],
   "source": [
    "i = 0\n",
    "for fin in fines:\n",
    "    if fines[fin] == 2:\n",
    "        i += 1\n",
    "print(i)"
   ]
  },
  {
   "cell_type": "code",
   "execution_count": 112,
   "metadata": {},
   "outputs": [
    {
     "name": "stdout",
     "output_type": "stream",
     "text": [
      "47\n"
     ]
    }
   ],
   "source": [
    "i = 0\n",
    "for fin in fines:\n",
    "    if fines[fin] == 3:\n",
    "        i += 1\n",
    "print(i)"
   ]
  },
  {
   "cell_type": "code",
   "execution_count": 113,
   "metadata": {},
   "outputs": [
    {
     "name": "stdout",
     "output_type": "stream",
     "text": [
      "30\n"
     ]
    }
   ],
   "source": [
    "i = 0\n",
    "for fin in fines:\n",
    "    if fines[fin] == 4:\n",
    "        i += 1\n",
    "print(i)"
   ]
  },
  {
   "cell_type": "code",
   "execution_count": 114,
   "metadata": {},
   "outputs": [
    {
     "name": "stdout",
     "output_type": "stream",
     "text": [
      "41\n"
     ]
    }
   ],
   "source": [
    "i = 0\n",
    "for fin in fines:\n",
    "    if fines[fin] == 5:\n",
    "        i += 1\n",
    "print(i)"
   ]
  },
  {
   "cell_type": "code",
   "execution_count": 115,
   "metadata": {},
   "outputs": [],
   "source": [
    "forbidden_fines = []\n",
    "for fin in fines:\n",
    "    if fines[fin] < 6:\n",
    "        forbidden_fines.append(fin)"
   ]
  },
  {
   "cell_type": "code",
   "execution_count": 117,
   "metadata": {},
   "outputs": [],
   "source": [
    "lexicon_fines = []\n",
    "for word in lexicon:\n",
    "    fin = word[-2:]\n",
    "    if fin not in forbidden_fines:\n",
    "        lexicon_fines.append(word)"
   ]
  },
  {
   "cell_type": "code",
   "execution_count": 118,
   "metadata": {},
   "outputs": [
    {
     "data": {
      "text/plain": [
       "121682"
      ]
     },
     "execution_count": 118,
     "metadata": {},
     "output_type": "execute_result"
    }
   ],
   "source": [
    "len(lexicon_fines)"
   ]
  },
  {
   "cell_type": "code",
   "execution_count": 126,
   "metadata": {},
   "outputs": [
    {
     "name": "stdout",
     "output_type": "stream",
     "text": [
      "48433\n"
     ]
    }
   ],
   "source": [
    "i = 0\n",
    "for word in lexicon_fines:\n",
    "    if word[-1] == 'а' or word[-1] == 'е' or word[-1] == 'ӧ' or word[-1] == 'ы'\\\n",
    "     or word[-1] == 'ё' or word[-1] == 'ю' or word[-1] == 'о' or word[-1] == 'и' or word[-1] == 'і'\\\n",
    "     or word[-1] == 'у':\n",
    "        i += 1\n",
    "print(i)"
   ]
  },
  {
   "cell_type": "code",
   "execution_count": 128,
   "metadata": {},
   "outputs": [],
   "source": [
    "VERB = []\n",
    "NAME = []\n",
    "\n",
    "for word in lexicon_fines:\n",
    "    if word[-1] == 'а' or word[-1] == 'е' or word[-1] == 'ӧ' or word[-1] == 'ы'\\\n",
    "     or word[-1] == 'ё' or word[-1] == 'ю' or word[-1] == 'о' or word[-1] == 'и' or word[-1] == 'і'\\\n",
    "     or word[-1] == 'у':\n",
    "        VERB.append(word)\n",
    "    else:\n",
    "        NAME.append(word)"
   ]
  },
  {
   "cell_type": "code",
   "execution_count": 129,
   "metadata": {},
   "outputs": [
    {
     "name": "stdout",
     "output_type": "stream",
     "text": [
      "48433\n",
      "73249\n"
     ]
    }
   ],
   "source": [
    "print(len(VERB))\n",
    "print(len(NAME))"
   ]
  },
  {
   "cell_type": "code",
   "execution_count": 132,
   "metadata": {},
   "outputs": [],
   "source": [
    "def Sorting(lst):\n",
    "    lst2 = sorted(lst, key=len)\n",
    "    lst2 = lst2[::-1]\n",
    "    return lst2"
   ]
  },
  {
   "cell_type": "code",
   "execution_count": 133,
   "metadata": {},
   "outputs": [],
   "source": [
    "VERB = Sorting(VERB)\n",
    "NAME = Sorting(NAME)"
   ]
  },
  {
   "cell_type": "code",
   "execution_count": 196,
   "metadata": {},
   "outputs": [],
   "source": [
    "lex = VERB + NAME\n",
    "alph = list(set(''.join(lex)))"
   ]
  },
  {
   "cell_type": "code",
   "execution_count": 197,
   "metadata": {},
   "outputs": [
    {
     "data": {
      "text/plain": [
       "42"
      ]
     },
     "execution_count": 197,
     "metadata": {},
     "output_type": "execute_result"
    }
   ],
   "source": [
    "len(alph)"
   ]
  },
  {
   "cell_type": "code",
   "execution_count": 199,
   "metadata": {},
   "outputs": [],
   "source": [
    "alph.sort()"
   ]
  },
  {
   "cell_type": "code",
   "execution_count": 201,
   "metadata": {},
   "outputs": [],
   "source": [
    "alphs = ''.join(alph)"
   ]
  },
  {
   "cell_type": "code",
   "execution_count": 203,
   "metadata": {},
   "outputs": [
    {
     "name": "stdout",
     "output_type": "stream",
     "text": [
      "öÿабвгдежзийклмнопрстуфхцчшщыэюяёіғңҥӌӏӧӱ‎\n"
     ]
    }
   ],
   "source": [
    "print(alphs)"
   ]
  },
  {
   "cell_type": "code",
   "execution_count": 188,
   "metadata": {},
   "outputs": [],
   "source": [
    "verb_freq = {}\n",
    "last = VERB[:]\n",
    "for x in range(1,1000):\n",
    "    num = round(len(last)/2)\n",
    "    if x not in [1, 2, 3, 4]:\n",
    "        x = x**2\n",
    "    if num > len(last) or num == 0:\n",
    "        verb_freq[x] = last[:]\n",
    "        break\n",
    "    verb_freq[x] = last[:num]\n",
    "    last = last[num:]\n",
    "    "
   ]
  },
  {
   "cell_type": "code",
   "execution_count": 175,
   "metadata": {},
   "outputs": [
    {
     "name": "stdout",
     "output_type": "stream",
     "text": [
      "dict_keys([1, 2, 3, 4, 25, 36, 49, 64, 81, 100, 121, 144, 169, 196, 225, 256])\n"
     ]
    }
   ],
   "source": [
    "print(verb_freq.keys())"
   ]
  },
  {
   "cell_type": "code",
   "execution_count": 176,
   "metadata": {},
   "outputs": [
    {
     "data": {
      "text/plain": [
       "1"
      ]
     },
     "execution_count": 176,
     "metadata": {},
     "output_type": "execute_result"
    }
   ],
   "source": [
    "len(verb_freq[256])"
   ]
  },
  {
   "cell_type": "code",
   "execution_count": 189,
   "metadata": {},
   "outputs": [],
   "source": [
    "name_freq = {}\n",
    "last = NAME[:]\n",
    "for x in range(1,1000):\n",
    "    num = round(len(last)/2)\n",
    "    if x not in [1, 2, 3, 4]:\n",
    "        x = x**2\n",
    "    if num > len(last) or num == 0:\n",
    "        name_freq[x] = last[:]\n",
    "        break\n",
    "    name_freq[x] = last[:num]\n",
    "    last = last[num:]"
   ]
  },
  {
   "cell_type": "code",
   "execution_count": 178,
   "metadata": {},
   "outputs": [
    {
     "name": "stdout",
     "output_type": "stream",
     "text": [
      "dict_keys([1, 2, 3, 4, 25, 36, 49, 64, 81, 100, 121, 144, 169, 196, 225, 256, 289])\n"
     ]
    }
   ],
   "source": [
    "print(name_freq.keys())"
   ]
  },
  {
   "cell_type": "code",
   "execution_count": 179,
   "metadata": {},
   "outputs": [
    {
     "data": {
      "text/plain": [
       "1144"
      ]
     },
     "execution_count": 179,
     "metadata": {},
     "output_type": "execute_result"
    }
   ],
   "source": [
    "len(name_freq[36])"
   ]
  },
  {
   "cell_type": "code",
   "execution_count": 190,
   "metadata": {},
   "outputs": [],
   "source": [
    "name_freq_store = name_freq.copy()\n",
    "verb_freq_store = verb_freq.copy()"
   ]
  },
  {
   "cell_type": "code",
   "execution_count": 191,
   "metadata": {},
   "outputs": [
    {
     "data": {
      "text/plain": [
       "dict_keys([1, 2, 3, 4, 25, 36, 49, 64, 81, 100, 121, 144, 169, 196, 225, 256, 289])"
      ]
     },
     "execution_count": 191,
     "metadata": {},
     "output_type": "execute_result"
    }
   ],
   "source": [
    "name_freq_store.keys()"
   ]
  },
  {
   "cell_type": "code",
   "execution_count": 183,
   "metadata": {},
   "outputs": [
    {
     "data": {
      "text/plain": [
       "['есып', 'ылер']"
      ]
     },
     "execution_count": 183,
     "metadata": {},
     "output_type": "execute_result"
    }
   ],
   "source": [
    "name_freq_store[256]"
   ]
  },
  {
   "cell_type": "code",
   "execution_count": null,
   "metadata": {},
   "outputs": [],
   "source": [
    "name_freq = name_freq_store.copy()\n",
    "verb_freq = verb_freq_store.copy()"
   ]
  },
  {
   "cell_type": "code",
   "execution_count": null,
   "metadata": {},
   "outputs": [],
   "source": [
    "del my_dict['key']\n",
    "removed_element = prime_numbers.pop(2)"
   ]
  },
  {
   "cell_type": "code",
   "execution_count": 162,
   "metadata": {},
   "outputs": [],
   "source": [
    "HEAD = '''<?xml version=\"1.0\" encoding=\"utf-8\"?><html><head>\n",
    "<title>{}</title>\n",
    "<meta content=\"unknown\" name=\"author\"></meta>\n",
    "<meta content=\"{}\" name=\"docid\"></meta>\n",
    "</head>\n",
    "<body>\\n<p>\\n'''\n",
    "\n",
    "BOTTOM = '</p>\\n</body></html>'\n",
    "\n",
    "tags = '<se>.</se>'\n",
    "word_tag = '<w><ana lex=\"lex\" gr=\"S=nom\"></ana>form</w>'\n",
    "word_tag2 = '<w><ana lex=\"lex\" gr=\"V=praes,1p\"></ana>form</w>'"
   ]
  },
  {
   "cell_type": "code",
   "execution_count": 184,
   "metadata": {},
   "outputs": [],
   "source": [
    "def word_extract(freq_dict, used):\n",
    "    freq = random.choice(list(freq_dict.keys()))\n",
    "    l = len(freq_dict[freq])\n",
    "    if l != 1:\n",
    "        indx = random.randint(0,l-1)\n",
    "    else:\n",
    "        indx = 0\n",
    "    word = freq_dict[freq][indx]\n",
    "    if word in used:\n",
    "        used[word] += 1\n",
    "    else:\n",
    "        used[word] = 1\n",
    "    if used[word] == freq and freq < 226:\n",
    "        freq_dict[freq].pop(indx)\n",
    "    if not len(freq_dict[freq]):\n",
    "        del freq_dict[freq]\n",
    "    return freq_dict, used, word"
   ]
  },
  {
   "cell_type": "code",
   "execution_count": 192,
   "metadata": {},
   "outputs": [
    {
     "ename": "KeyError",
     "evalue": "36",
     "output_type": "error",
     "traceback": [
      "\u001b[0;31m---------------------------------------------------------------------------\u001b[0m",
      "\u001b[0;31mKeyError\u001b[0m                                  Traceback (most recent call last)",
      "\u001b[0;32m<ipython-input-192-b02a28022ef9>\u001b[0m in \u001b[0;36m<module>\u001b[0;34m\u001b[0m\n\u001b[1;32m      8\u001b[0m     \u001b[0mscenario\u001b[0m \u001b[0;34m=\u001b[0m \u001b[0mrandom\u001b[0m\u001b[0;34m.\u001b[0m\u001b[0mchoice\u001b[0m\u001b[0;34m(\u001b[0m\u001b[0;34m[\u001b[0m\u001b[0;36m1\u001b[0m\u001b[0;34m,\u001b[0m \u001b[0;36m2\u001b[0m\u001b[0;34m,\u001b[0m \u001b[0;36m3\u001b[0m\u001b[0;34m,\u001b[0m \u001b[0;36m4\u001b[0m\u001b[0;34m,\u001b[0m \u001b[0;36m4\u001b[0m\u001b[0;34m,\u001b[0m \u001b[0;36m4\u001b[0m\u001b[0;34m,\u001b[0m \u001b[0;36m5\u001b[0m\u001b[0;34m]\u001b[0m\u001b[0;34m)\u001b[0m \u001b[0;31m# 1 pr 1p3p, 2 pr 1p2p, 3 3pfut 4 perf,impf, 5 pr,3p,irr\u001b[0m\u001b[0;34m\u001b[0m\u001b[0;34m\u001b[0m\u001b[0m\n\u001b[1;32m      9\u001b[0m     \u001b[0;32mwith\u001b[0m \u001b[0mopen\u001b[0m\u001b[0;34m(\u001b[0m\u001b[0;34m'texts/{}.xml'\u001b[0m\u001b[0;34m.\u001b[0m\u001b[0mformat\u001b[0m\u001b[0;34m(\u001b[0m\u001b[0mx\u001b[0m\u001b[0;34m)\u001b[0m\u001b[0;34m,\u001b[0m \u001b[0;34m'w'\u001b[0m\u001b[0;34m)\u001b[0m \u001b[0;32mas\u001b[0m \u001b[0mfw\u001b[0m\u001b[0;34m:\u001b[0m\u001b[0;34m\u001b[0m\u001b[0;34m\u001b[0m\u001b[0m\n\u001b[0;32m---> 10\u001b[0;31m         \u001b[0mfw\u001b[0m\u001b[0;34m.\u001b[0m\u001b[0mwrite\u001b[0m\u001b[0;34m(\u001b[0m\u001b[0mHEAD\u001b[0m\u001b[0;34m.\u001b[0m\u001b[0mformat\u001b[0m\u001b[0;34m(\u001b[0m\u001b[0mrandom\u001b[0m\u001b[0;34m.\u001b[0m\u001b[0mchoice\u001b[0m\u001b[0;34m(\u001b[0m\u001b[0mname_freq\u001b[0m\u001b[0;34m[\u001b[0m\u001b[0;36m36\u001b[0m\u001b[0;34m]\u001b[0m\u001b[0;34m)\u001b[0m\u001b[0;34m,\u001b[0m \u001b[0mrandom\u001b[0m\u001b[0;34m.\u001b[0m\u001b[0mrandint\u001b[0m\u001b[0;34m(\u001b[0m\u001b[0;36m4532\u001b[0m\u001b[0;34m,\u001b[0m\u001b[0;36m12934\u001b[0m\u001b[0;34m)\u001b[0m\u001b[0;34m)\u001b[0m\u001b[0;34m)\u001b[0m\u001b[0;34m\u001b[0m\u001b[0;34m\u001b[0m\u001b[0m\n\u001b[0m\u001b[1;32m     11\u001b[0m         \u001b[0;32mfor\u001b[0m \u001b[0msent\u001b[0m \u001b[0;32min\u001b[0m \u001b[0mrange\u001b[0m\u001b[0;34m(\u001b[0m\u001b[0mrandom\u001b[0m\u001b[0;34m.\u001b[0m\u001b[0mrandint\u001b[0m\u001b[0;34m(\u001b[0m\u001b[0;36m4\u001b[0m\u001b[0;34m,\u001b[0m\u001b[0;36m30\u001b[0m\u001b[0;34m)\u001b[0m\u001b[0;34m)\u001b[0m\u001b[0;34m:\u001b[0m\u001b[0;34m\u001b[0m\u001b[0;34m\u001b[0m\u001b[0m\n\u001b[1;32m     12\u001b[0m             \u001b[0mfw\u001b[0m\u001b[0;34m.\u001b[0m\u001b[0mwrite\u001b[0m\u001b[0;34m(\u001b[0m\u001b[0;34m'<se>\\n'\u001b[0m\u001b[0;34m)\u001b[0m\u001b[0;34m\u001b[0m\u001b[0;34m\u001b[0m\u001b[0m\n",
      "\u001b[0;31mKeyError\u001b[0m: 36"
     ]
    }
   ],
   "source": [
    "name_freq = name_freq_store.copy()\n",
    "verb_freq = verb_freq_store.copy()\n",
    "\n",
    "used = {}\n",
    "for x in range(1000,10000):\n",
    "    if len(list(name_freq.keys())) < 3:\n",
    "        break\n",
    "    scenario = random.choice([1, 2, 3, 4, 4, 4, 5]) # 1 pr 1p3p, 2 pr 1p2p, 3 3pfut 4 perf,impf, 5 pr,3p,irr\n",
    "    with open('texts/{}.xml'.format(x), 'w') as fw:\n",
    "        fw.write(HEAD.format(random.choice(name_freq[36]), random.randint(4532,12934)))\n",
    "        for sent in range(random.randint(4,30)):\n",
    "            fw.write('<se>\\n')\n",
    "            if scenario in [3, 4, 5]:\n",
    "                name_freq, used, word = word_extract(name_freq, used)\n",
    "                if word[-1] == 'о':\n",
    "                    form = word[:-1] + 'онман'\n",
    "                else:\n",
    "                    form = word + 'онман'\n",
    "                fw.write('<w><ana lex=\"{}\" gr=\"S=nom\"></ana>{}</w>\\n'.format(word, form))\n",
    "            verb_freq, used, word = word_extract(verb_freq, used)\n",
    "            if scenario in [3, 5]:\n",
    "                if random.randint(1,2) == 1:\n",
    "                    fw.write('<w><ana lex=\"{}\" gr=\"V=pr,3p\"></ana>{}ӌӱ</w>\\n'.format(word, word))\n",
    "                elif scenario == 3:\n",
    "                    fw.write('<w><ana lex=\"{}\" gr=\"V=fut\"></ana>{}мудж</w>\\n'.format(word, word))\n",
    "                elif scenario == 5:\n",
    "                    fw.write('<w><ana lex=\"{}\" gr=\"V=irr\"></ana>{}кӧрто</w>\\n'.format(word, word))\n",
    "            if scenario in [1, 2]:\n",
    "                if random.randint(1,2) == 1:\n",
    "                    fw.write('<w><ana lex=\"{}\" gr=\"V=pr,1p\"></ana>{}зыап</w>\\n'.format(word, word))\n",
    "                else:\n",
    "                    fw.write('<w><ana lex=\"{}\" gr=\"V=pr,2p\"></ana>{}зіху</w>\\n'.format(word, word))\n",
    "            if scenario == 4:\n",
    "                suffix = random.choice(['енар', 'ергу'])\n",
    "                if word[-1] in 'оеуыиӱӧёэю':\n",
    "                    form = word[:-1]+suffix\n",
    "                if suffix == 'енар':\n",
    "                    form = word+suffix\n",
    "                    fw.write('<w><ana lex=\"{}\" gr=\"V=perf\"></ana>{}</w>\\n'.format(word, form))\n",
    "                else:\n",
    "                    form = word+suffix\n",
    "                    fw.write('<w><ana lex=\"{}\" gr=\"V=impf\"></ana>{}</w>\\n'.format(word, form))\n",
    "            name_freq, used, word = word_extract(name_freq, used)\n",
    "            if word[-1] == 'о':\n",
    "                form = word[:-1] + 'ӧмми'\n",
    "            else:\n",
    "                form = word + 'ӧмми'\n",
    "            fw.write('<w><ana lex=\"{}\" gr=\"S=obliq\"></ana>{}</w>\\n'.format(word, form))\n",
    "            if random.randint(1,3) == 1:\n",
    "                name_freq, used, word = word_extract(name_freq, used)\n",
    "                if word[-1] == 'о':\n",
    "                    form = word[:-1] + 'ӧмми'\n",
    "                else:\n",
    "                    form = word + 'ӧмми'\n",
    "                fw.write('<w><ana lex=\"{}\" gr=\"S=obliq\"></ana>{}</w>\\n'.format(word, form))\n",
    "            if random.randint(1,3) == 1:\n",
    "                p1 = 0\n",
    "                if scenario in [3, 4, 5]:\n",
    "                    if random.randint(1,4) == 1:\n",
    "                        p1 = 1\n",
    "                    else:\n",
    "                        name_freq, used, word = word_extract(name_freq, used)\n",
    "                        if word[-1] == 'о':\n",
    "                            form = word[:-1] + 'онман'\n",
    "                        else:\n",
    "                            form = word + 'онман'\n",
    "                        fw.write('<w><ana lex=\"{}\" gr=\"S=nom\"></ana>{}</w>\\n'.format(word, form))\n",
    "                verb_freq, used, word = word_extract(verb_freq, used)\n",
    "                if scenario in [3, 5]:\n",
    "                    if random.randint(1,2) == 1:\n",
    "                        if p1:\n",
    "                            if random.randint(1,3) > 1:\n",
    "                                fw.write('<w><ana lex=\"{}\" gr=\"V=pr,1p\"></ana>{}зыап</w>\\n'.format(word, word))\n",
    "                            else:\n",
    "                                fw.write('<w><ana lex=\"{}\" gr=\"V=pr,2p\"></ana>{}зіху</w>\\n'.format(word, word))\n",
    "                        else:\n",
    "                            fw.write('<w><ana lex=\"{}\" gr=\"V=pr,3p\"></ana>{}ӌӱ</w>\\n'.format(word, word))\n",
    "                    elif scenario == 3:\n",
    "                        if random.randint(1,3) > 1:\n",
    "                            fw.write('<w><ana lex=\"{}\" gr=\"V=fut\"></ana>{}мудж</w>\\n'.format(word, word))\n",
    "                        else:\n",
    "                            fw.write('<w><ana lex=\"{}\" gr=\"V=fut2\"></ana>{}хайт</w>\\n'.format(word, word))\n",
    "                    elif scenario == 5:\n",
    "                        fw.write('<w><ana lex=\"{}\" gr=\"V=irr\"></ana>{}кӧрто</w>\\n'.format(word, word))\n",
    "                if scenario in [1, 2]:\n",
    "                    if random.randint(1,2) == 1:\n",
    "                        fw.write('<w><ana lex=\"{}\" gr=\"V=pr,1p\"></ana>{}зыап</w>\\n'.format(word, word))\n",
    "                    else:\n",
    "                        fw.write('<w><ana lex=\"{}\" gr=\"V=pr,2p\"></ana>{}зіху</w>\\n'.format(word, word))\n",
    "                if scenario == 4:\n",
    "                    suffix = random.choice(['енар', 'ергу'])\n",
    "                    if word[-1] in 'оеуыиӱӧёэю':\n",
    "                        form = word[:-1]+suffix\n",
    "                    if suffix == 'енар':\n",
    "                        form = word+suffix\n",
    "                        fw.write('<w><ana lex=\"{}\" gr=\"V=perf\"></ana>{}</w>\\n'.format(word, form))\n",
    "                    else:\n",
    "                        form = word+suffix\n",
    "                        fw.write('<w><ana lex=\"{}\" gr=\"V=impf\"></ana>{}</w>\\n'.format(word, form))\n",
    "                name_freq, used, word = word_extract(name_freq, used)\n",
    "                if word[-1] == 'о':\n",
    "                    form = word[:-1] + 'ӧмми'\n",
    "                else:\n",
    "                    form = word + 'ӧмми'\n",
    "                fw.write('<w><ana lex=\"{}\" gr=\"S=obliq\"></ana>{}</w>\\n'.format(word, form))\n",
    "                if random.randint(1,3) == 1:\n",
    "                    name_freq, used, word = word_extract(name_freq, used)\n",
    "                    if word[-1] == 'о':\n",
    "                        form = word[:-1] + 'ӧмми'\n",
    "                    else:\n",
    "                        form = word + 'ӧмми'\n",
    "                    fw.write('<w><ana lex=\"{}\" gr=\"S=obliq\"></ana>{}</w>\\n'.format(word, form))\n",
    "            fw.write('.</se>\\n')\n",
    "        fw.write(BOTTOM)"
   ]
  },
  {
   "cell_type": "code",
   "execution_count": 194,
   "metadata": {},
   "outputs": [
    {
     "data": {
      "text/plain": [
       "dict_keys([25, 256, 289])"
      ]
     },
     "execution_count": 194,
     "metadata": {},
     "output_type": "execute_result"
    }
   ],
   "source": [
    "name_freq.keys()"
   ]
  },
  {
   "cell_type": "code",
   "execution_count": 195,
   "metadata": {},
   "outputs": [
    {
     "data": {
      "text/plain": [
       "2153"
      ]
     },
     "execution_count": 195,
     "metadata": {},
     "output_type": "execute_result"
    }
   ],
   "source": [
    "len(name_freq[25])"
   ]
  },
  {
   "cell_type": "code",
   "execution_count": 204,
   "metadata": {},
   "outputs": [],
   "source": [
    "import os"
   ]
  },
  {
   "cell_type": "code",
   "execution_count": 205,
   "metadata": {},
   "outputs": [
    {
     "name": "stdout",
     "output_type": "stream",
     "text": [
      "535824\n"
     ]
    }
   ],
   "source": [
    "pth = 'texts'\n",
    "wordcount = 0\n",
    "for fl in os.listdir(pth):\n",
    "    with open(os.path.join(pth, fl)) as f:\n",
    "        txt = f.read()\n",
    "    wordcount += len(re.findall('<w>', txt))\n",
    "print(wordcount)"
   ]
  },
  {
   "cell_type": "code",
   "execution_count": null,
   "metadata": {},
   "outputs": [],
   "source": []
  }
 ],
 "metadata": {
  "kernelspec": {
   "display_name": "Python 3",
   "language": "python",
   "name": "python3"
  },
  "language_info": {
   "codemirror_mode": {
    "name": "ipython",
    "version": 3
   },
   "file_extension": ".py",
   "mimetype": "text/x-python",
   "name": "python",
   "nbconvert_exporter": "python",
   "pygments_lexer": "ipython3",
   "version": "3.8.10"
  }
 },
 "nbformat": 4,
 "nbformat_minor": 4
}
